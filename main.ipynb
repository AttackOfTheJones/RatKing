{
  "nbformat": 4,
  "nbformat_minor": 0,
  "metadata": {
    "colab": {
      "name": "Untitled4.ipynb",
      "provenance": [],
      "collapsed_sections": [],
      "authorship_tag": "ABX9TyNXWsCSp6apFvj0bPq2ziho",
      "include_colab_link": true
    },
    "kernelspec": {
      "name": "python3",
      "display_name": "Python 3"
    },
    "language_info": {
      "name": "python"
    }
  },
  "cells": [
    {
      "cell_type": "markdown",
      "metadata": {
        "id": "view-in-github",
        "colab_type": "text"
      },
      "source": [
        "<a href=\"https://colab.research.google.com/github/AttackOfTheJones/RatKing/blob/main/main.ipynb\" target=\"_parent\"><img src=\"https://colab.research.google.com/assets/colab-badge.svg\" alt=\"Open In Colab\"/></a>"
      ]
    },
    {
      "cell_type": "code",
      "metadata": {
        "id": "BXWG4_BmFScm"
      },
      "source": [
        "#initial imports\n",
        "import tkinter\n",
        "import poopMan64\n",
        "import windows"
      ],
      "execution_count": null,
      "outputs": []
    },
    {
      "cell_type": "code",
      "metadata": {
        "id": "xjCnjTJdF0ey"
      },
      "source": [
        "#create instances of all windows and gpt\n",
        "reject_window = windows.reject()\n",
        "central_window = windows.central()\n",
        "verify_window = windows.verify(reject_window, central_window)\n",
        "\n",
        "#create instance of GPT3 \n",
        "central_gpt3 = poopMan64.poopy()"
      ],
      "execution_count": null,
      "outputs": []
    },
    {
      "cell_type": "code",
      "metadata": {
        "id": "bWXYLxhwIEcC"
      },
      "source": [
        "#\"main\"\n",
        "verify_window.start()"
      ],
      "execution_count": null,
      "outputs": []
    }
  ]
}