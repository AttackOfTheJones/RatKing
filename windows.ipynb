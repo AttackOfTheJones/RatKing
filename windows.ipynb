{
  "nbformat": 4,
  "nbformat_minor": 0,
  "metadata": {
    "colab": {
      "name": "windows.ipynb",
      "provenance": [],
      "authorship_tag": "ABX9TyM98QtYrhqMmvH6IaWR65n9",
      "include_colab_link": true
    },
    "kernelspec": {
      "name": "python3",
      "display_name": "Python 3"
    },
    "language_info": {
      "name": "python"
    }
  },
  "cells": [
    {
      "cell_type": "markdown",
      "metadata": {
        "id": "view-in-github",
        "colab_type": "text"
      },
      "source": [
        "<a href=\"https://colab.research.google.com/github/AttackOfTheJones/RatKing/blob/main/windows.ipynb\" target=\"_parent\"><img src=\"https://colab.research.google.com/assets/colab-badge.svg\" alt=\"Open In Colab\"/></a>"
      ]
    },
    {
      "cell_type": "code",
      "metadata": {
        "id": "Vh0QLckZQYMG"
      },
      "source": [
        "#First window, which verifies gpt3 code\n",
        "class verify():\n",
        "\n",
        "    def __init__(self):\n",
        "      self.verify_window = None\n",
        "      self.code_input = None\n",
        "\n",
        "    def start(self):\n",
        "      #window initialization\n",
        "      self.verify_window = tkinter.Tk()\n",
        "      self.verify_window.title(\"Verification\")\n",
        "      self.verify_window.geometry(\"480x160\")\n",
        "\n",
        "      #window row and column setup\n",
        "      self.verify_window.columnconfigure(0, weight=1)\n",
        "      self.verify_window.columnconfigure(1, weight=3)\n",
        "      self.verify_window.columnconfigure(2, weight=1)\n",
        "\n",
        "      self.verify_window.rowconfigure(0, weight=1)\n",
        "      self.verify_window.rowconfigure(1, weight=1)\n",
        "      self.verify_window.rowconfigure(2, weight=1)\n",
        "\n",
        "      #label\n",
        "\n",
        "      #input box\n",
        "      self.code_box = tkinter.Entry(self.verify_window, width=70)\n",
        "      self.code_box.grid(row=1, column=0, columnspan=3, sticky='nsew', padx=(20, 0))\n",
        "\n",
        "      #button\n",
        "      button = tkinter.Button(self.verify_window, text=\"Verify Code\", command=self.v_button)\n",
        "      button.grid(row=3, column=1, sticky=\"w\")\n",
        "\n",
        "    def v_button(self):\n",
        "      #matt's fancy code to verify the thingy"
      ],
      "execution_count": null,
      "outputs": []
    }
  ]
}